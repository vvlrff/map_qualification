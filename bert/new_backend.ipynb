{
 "cells": [
  {
   "cell_type": "code",
   "execution_count": 2,
   "metadata": {},
   "outputs": [
    {
     "ename": "AttributeError",
     "evalue": "ResultSet object has no attribute 'get'. You're probably treating a list of elements like a single element. Did you call find_all() when you meant to call find()?",
     "output_type": "error",
     "traceback": [
      "\u001b[1;31m---------------------------------------------------------------------------\u001b[0m",
      "\u001b[1;31mAttributeError\u001b[0m                            Traceback (most recent call last)",
      "\u001b[1;32mc:\\Users\\vvlrff\\Desktop\\my_projects\\map_qualification\\bert\\new_backend.ipynb Cell 1\u001b[0m line \u001b[0;36m1\n\u001b[0;32m     <a href='vscode-notebook-cell:/c%3A/Users/vvlrff/Desktop/my_projects/map_qualification/bert/new_backend.ipynb#W0sZmlsZQ%3D%3D?line=13'>14</a>\u001b[0m allHrefs \u001b[39m=\u001b[39m soup\u001b[39m.\u001b[39mfind_all(class_\u001b[39m=\u001b[39m\u001b[39m\"\u001b[39m\u001b[39mdcr-lv2v9o\u001b[39m\u001b[39m\"\u001b[39m)\n\u001b[0;32m     <a href='vscode-notebook-cell:/c%3A/Users/vvlrff/Desktop/my_projects/map_qualification/bert/new_backend.ipynb#W0sZmlsZQ%3D%3D?line=14'>15</a>\u001b[0m allText \u001b[39m=\u001b[39m soup\u001b[39m.\u001b[39mfind_all(class_\u001b[39m=\u001b[39m\u001b[39m\"\u001b[39m\u001b[39mshow-underline dcr-adlhb4\u001b[39m\u001b[39m\"\u001b[39m)\n\u001b[1;32m---> <a href='vscode-notebook-cell:/c%3A/Users/vvlrff/Desktop/my_projects/map_qualification/bert/new_backend.ipynb#W0sZmlsZQ%3D%3D?line=15'>16</a>\u001b[0m allImage \u001b[39m=\u001b[39m soup\u001b[39m.\u001b[39;49mfind_all(class_\u001b[39m=\u001b[39;49m\u001b[39m\"\u001b[39;49m\u001b[39mdcr-evn1e9\u001b[39;49m\u001b[39m\"\u001b[39;49m)\u001b[39m.\u001b[39;49mget(\u001b[39m\"\u001b[39m\u001b[39msrc\u001b[39m\u001b[39m\"\u001b[39m)\n\u001b[0;32m     <a href='vscode-notebook-cell:/c%3A/Users/vvlrff/Desktop/my_projects/map_qualification/bert/new_backend.ipynb#W0sZmlsZQ%3D%3D?line=16'>17</a>\u001b[0m max_len \u001b[39m=\u001b[39m \u001b[39mmax\u001b[39m(\u001b[39mlen\u001b[39m(allHrefs), \u001b[39mlen\u001b[39m(allText))\n\u001b[0;32m     <a href='vscode-notebook-cell:/c%3A/Users/vvlrff/Desktop/my_projects/map_qualification/bert/new_backend.ipynb#W0sZmlsZQ%3D%3D?line=17'>18</a>\u001b[0m \u001b[39mfor\u001b[39;00m i \u001b[39min\u001b[39;00m \u001b[39mrange\u001b[39m(max_len):\n",
      "File \u001b[1;32m~\\AppData\\Roaming\\Python\\Python310\\site-packages\\bs4\\element.py:2289\u001b[0m, in \u001b[0;36mResultSet.__getattr__\u001b[1;34m(self, key)\u001b[0m\n\u001b[0;32m   2287\u001b[0m \u001b[39mdef\u001b[39;00m \u001b[39m__getattr__\u001b[39m(\u001b[39mself\u001b[39m, key):\n\u001b[0;32m   2288\u001b[0m     \u001b[39m\"\"\"Raise a helpful exception to explain a common code fix.\"\"\"\u001b[39;00m\n\u001b[1;32m-> 2289\u001b[0m     \u001b[39mraise\u001b[39;00m \u001b[39mAttributeError\u001b[39;00m(\n\u001b[0;32m   2290\u001b[0m         \u001b[39m\"\u001b[39m\u001b[39mResultSet object has no attribute \u001b[39m\u001b[39m'\u001b[39m\u001b[39m%s\u001b[39;00m\u001b[39m'\u001b[39m\u001b[39m. You\u001b[39m\u001b[39m'\u001b[39m\u001b[39mre probably treating a list of elements like a single element. Did you call find_all() when you meant to call find()?\u001b[39m\u001b[39m\"\u001b[39m \u001b[39m%\u001b[39m key\n\u001b[0;32m   2291\u001b[0m     )\n",
      "\u001b[1;31mAttributeError\u001b[0m: ResultSet object has no attribute 'get'. You're probably treating a list of elements like a single element. Did you call find_all() when you meant to call find()?"
     ]
    }
   ],
   "source": [
    "from bs4 import BeautifulSoup\n",
    "import requests\n",
    "\n",
    "\n",
    "url = 'https://www.theguardian.com/world'\n",
    "headers = {\n",
    "    'Accept': '*/*', \n",
    "    'User-Agent': 'Mozilla/5.0 (Macintosh; Intel Mac OS X 10_15_7) AppleWebKit/537.36 (KHTML, like Gecko) Chrome/102.0.5005.167 YaBrowser/22.7.3.799 Yowser/2.5 Safari/537.36'\n",
    "}\n",
    "req = requests.get(url, headers=headers)\n",
    "src = req.text\n",
    "soup = BeautifulSoup(src, 'lxml')\n",
    "items = []\n",
    "allHrefs = soup.find_all(class_=\"dcr-lv2v9o\")\n",
    "allText = soup.find_all(class_=\"show-underline dcr-adlhb4\")\n",
    "allImage = soup.find_all(class_=\"dcr-evn1e9\")\n",
    "max_len = max(len(allHrefs), len(allText))\n",
    "for i in range(max_len):\n",
    "    try:\n",
    "        itemText = allText[i].text\n",
    "        itemHref = allHrefs[i].get('href')\n",
    "        itemImage = allHrefs[i].get('src')\n",
    "        fullHref = \"https://www.theguardian.com\" + str(itemHref)\n",
    "        items.append(\n",
    "            {\n",
    "                \"title\": itemText,\n",
    "                \"href\": fullHref,\n",
    "                \"image\": itemImage\n",
    "            }\n",
    "        )\n",
    "    except Exception:\n",
    "        print(Exception)\n",
    "\n",
    "items\n"
   ]
  },
  {
   "cell_type": "code",
   "execution_count": 1,
   "metadata": {},
   "outputs": [
    {
     "ename": "NameError",
     "evalue": "name 'allImage' is not defined",
     "output_type": "error",
     "traceback": [
      "\u001b[1;31m---------------------------------------------------------------------------\u001b[0m",
      "\u001b[1;31mNameError\u001b[0m                                 Traceback (most recent call last)",
      "\u001b[1;32mc:\\Users\\vvlrff\\Desktop\\my_projects\\map_qualification\\bert\\new_backend.ipynb Cell 2\u001b[0m line \u001b[0;36m1\n\u001b[1;32m----> <a href='vscode-notebook-cell:/c%3A/Users/vvlrff/Desktop/my_projects/map_qualification/bert/new_backend.ipynb#W2sZmlsZQ%3D%3D?line=0'>1</a>\u001b[0m allImage[\u001b[39m0\u001b[39m]\u001b[39m.\u001b[39mget(\u001b[39m'\u001b[39m\u001b[39msrc\u001b[39m\u001b[39m'\u001b[39m)\n",
      "\u001b[1;31mNameError\u001b[0m: name 'allImage' is not defined"
     ]
    }
   ],
   "source": [
    "allImage[0].get('src')"
   ]
  },
  {
   "cell_type": "code",
   "execution_count": null,
   "metadata": {},
   "outputs": [
    {
     "ename": "",
     "evalue": "",
     "output_type": "error",
     "traceback": [
      "\u001b[1;31mThe Kernel crashed while executing code in the the current cell or a previous cell. Please review the code in the cell(s) to identify a possible cause of the failure. Click <a href='https://aka.ms/vscodeJupyterKernelCrash'>here</a> for more info. View Jupyter <a href='command:jupyter.viewOutput'>log</a> for further details."
     ]
    }
   ],
   "source": [
    "import pandas as pd\n",
    "import spacy\n",
    "import numpy as np\n",
    "import pickle\n",
    "import geonamescache\n",
    "\n",
    "nlp = spacy.load('en_core_web_lg')\n",
    "gc = geonamescache.GeonamesCache()\n",
    "   \n",
    "\n",
    "df = pd.DataFrame(items)\n",
    "preprocessing_text = []\n",
    "for text in df['title']:\n",
    "    doc = nlp(text)\n",
    "    new_text = []\n",
    "    for token in doc:\n",
    "        if not token.is_stop and not token.is_space and not token.is_punct:\n",
    "            new_text.append(token.lemma_)\n",
    "    preprocessing_text.append(' '.join(new_text))\n",
    "df['preprocessing_text'] = preprocessing_text\n",
    "df['vector'] = df['preprocessing_text'].apply(\n",
    "    lambda text: nlp(text).vector)\n",
    "preprocessing_text = np.stack(df.vector)\n",
    "with open('app/data_collection/model_pickle', 'rb') as file:\n",
    "    rfc = pickle.load(file)\n",
    "y_pred = rfc.predict(preprocessing_text)\n",
    "need_list = []\n",
    "url_list = []\n",
    "i = 0\n",
    "for item in df['title']:\n",
    "    if y_pred[i] == 1:\n",
    "        print(item, y_pred[i])\n",
    "        need_list.append(item)\n",
    "    i += 1\n",
    "i = 0\n",
    "for it in df['href']:\n",
    "    if y_pred[i] == 1:\n",
    "        print(item, y_pred[i])\n",
    "        url_list.append(it)\n",
    "    i += 1\n",
    "items = []\n",
    "for i in range(len(need_list)):\n",
    "    items.append(\n",
    "        {\n",
    "            \"title\": need_list[i],\n",
    "            \"id\": i,\n",
    "            \"href\": url_list[i]\n",
    "        }\n",
    "    )\n",
    "countries = gc.get_countries()\n",
    "cities = gc.get_cities()\n",
    "def gen_dict_extract(var, key):\n",
    "    if isinstance(var, dict):\n",
    "        for k, v in var.items():\n",
    "            if k == key:\n",
    "                yield v\n",
    "            if isinstance(v, (dict, list)):\n",
    "                yield from gen_dict_extract(v, key)\n",
    "    elif isinstance(var, list):\n",
    "        for d in var:\n",
    "            yield from gen_dict_extract(d, key)\n",
    "countries = [*gen_dict_extract(countries, 'name')]\n",
    "cities = [*gen_dict_extract(cities, 'name')]\n",
    "info = []\n",
    "for item in range(len(need_list)):\n",
    "    doc = nlp(need_list[item])\n",
    "    for ent in doc.ents:\n",
    "        if ent.label_ == 'GPE':\n",
    "            if ent.text in countries:\n",
    "                info.append(\n",
    "                    {\n",
    "                        \"country\": ent.text,\n",
    "                        \"text\": doc.text\n",
    "                    }\n",
    "                )\n",
    "            elif ent.text not in cities:\n",
    "                if ent.text == \"US\":\n",
    "                    info.append(\n",
    "                    {\n",
    "                        \"country\": \"United States of America\",\n",
    "                        \"text\": doc.text\n",
    "                    }\n",
    "                )\n",
    "                elif ent.text == \"UK\":\n",
    "                    info.append(\n",
    "                    {\n",
    "                        \"country\": \"United Kingdom\",\n",
    "                        \"text\": doc.text\n",
    "                    }\n",
    "                )\n",
    "                else:\n",
    "                    info.append(\n",
    "                        {\n",
    "                            \"country\": ent.text,\n",
    "                            \"text\": doc.text\n",
    "                        }\n",
    "                    )\n"
   ]
  },
  {
   "cell_type": "code",
   "execution_count": null,
   "metadata": {},
   "outputs": [],
   "source": []
  }
 ],
 "metadata": {
  "kernelspec": {
   "display_name": "Python 3",
   "language": "python",
   "name": "python3"
  },
  "language_info": {
   "codemirror_mode": {
    "name": "ipython",
    "version": 3
   },
   "file_extension": ".py",
   "mimetype": "text/x-python",
   "name": "python",
   "nbconvert_exporter": "python",
   "pygments_lexer": "ipython3",
   "version": "3.10.8"
  }
 },
 "nbformat": 4,
 "nbformat_minor": 2
}
